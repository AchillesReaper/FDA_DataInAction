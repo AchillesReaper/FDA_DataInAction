{
 "cells": [
  {
   "cell_type": "markdown",
   "metadata": {},
   "source": [
    "## Part 2 Ensemble testing"
   ]
  },
  {
   "cell_type": "markdown",
   "metadata": {},
   "source": [
    "#### 1. load the know result"
   ]
  },
  {
   "cell_type": "code",
   "execution_count": 2,
   "metadata": {},
   "outputs": [
    {
     "data": {
      "text/plain": [
       "0    0\n",
       "1    0\n",
       "2    0\n",
       "3    1\n",
       "4    0\n",
       "Name: Quote_Flag, dtype: int64"
      ]
     },
     "execution_count": 2,
     "metadata": {},
     "output_type": "execute_result"
    }
   ],
   "source": [
    "import sklearn as sk\n",
    "import pandas as pd\n",
    "import numpy as np\n",
    "\n",
    "DATAFILE1 = 'D:\\\\Google One\\\\8. Library\\\\0. UTS\\\\Master of Information Technology\\\\4. Subjects\\\\2021 Semester 1\\\\32130 Fundamentals of Data Analystics\\\\4. Assignment\\\\Assignment 3\\\\Database\\\\A3_test.csv'\n",
    "a3test = pd.read_csv(DATAFILE1)\n",
    "y_test = a3test['Quote_Flag']\n",
    "y_test.head()"
   ]
  },
  {
   "cell_type": "code",
   "execution_count": 3,
   "metadata": {},
   "outputs": [
    {
     "data": {
      "text/plain": [
       "0        0\n",
       "1        0\n",
       "2        0\n",
       "3        1\n",
       "4        0\n",
       "        ..\n",
       "15630    1\n",
       "15631    0\n",
       "15632    0\n",
       "15633    0\n",
       "15634    0\n",
       "Name: Quote_Flag, Length: 15635, dtype: int64"
      ]
     },
     "execution_count": 3,
     "metadata": {},
     "output_type": "execute_result"
    }
   ],
   "source": [
    "y_test"
   ]
  },
  {
   "cell_type": "markdown",
   "metadata": {},
   "source": [
    "#### 2. load the ensemble prediction result"
   ]
  },
  {
   "cell_type": "code",
   "execution_count": 10,
   "metadata": {},
   "outputs": [
    {
     "data": {
      "text/plain": [
       "0        0\n",
       "1        0\n",
       "2        0\n",
       "3        1\n",
       "4        0\n",
       "        ..\n",
       "15630    1\n",
       "15631    1\n",
       "15632    0\n",
       "15633    0\n",
       "15634    0\n",
       "Name: Quote_Flag, Length: 15635, dtype: int64"
      ]
     },
     "execution_count": 10,
     "metadata": {},
     "output_type": "execute_result"
    }
   ],
   "source": [
    "# import test set and fit in to classifier\n",
    "DATAFILE2 = 'D:\\\\Google One\\\\8. Library\\\\0. UTS\\\\Master of Information Technology\\\\4. Subjects\\\\2021 Semester 1\\\\32130 Fundamentals of Data Analystics\\\\4. Assignment\\\\Assignment 3\\\\Database\\\\ensemble\\\\ensemble_3.csv'\n",
    "a3esb = pd.read_csv(DATAFILE2)\n",
    "y_pred = a3esb['Quote_Flag']\n",
    "y_pred"
   ]
  },
  {
   "cell_type": "code",
   "execution_count": 11,
   "metadata": {
    "scrolled": true
   },
   "outputs": [
    {
     "name": "stdout",
     "output_type": "stream",
     "text": [
      "              precision    recall  f1-score   support\n",
      "\n",
      "           0       0.96      0.80      0.87     12629\n",
      "           1       0.50      0.84      0.63      3006\n",
      "\n",
      "    accuracy                           0.81     15635\n",
      "   macro avg       0.73      0.82      0.75     15635\n",
      "weighted avg       0.87      0.81      0.82     15635\n",
      "\n",
      "The F1-score for Quote_Flag = 1 is 0.6252\n",
      "[[10059  2570]\n",
      " [  470  2536]]\n"
     ]
    }
   ],
   "source": [
    "# generate reposrting score\n",
    "\n",
    "from sklearn.metrics import f1_score, classification_report, confusion_matrix,plot_confusion_matrix\n",
    "# Classification Report and f1-score\n",
    "print(classification_report(y_test, y_pred))\n",
    "print('The F1-score for Quote_Flag = 1 is {:.4f}'.format(f1_score(y_test, y_pred, pos_label=1)))\n",
    "# Confusion Matrix\n",
    "mat = confusion_matrix(y_test, y_pred)\n",
    "print(mat)\n",
    "\n"
   ]
  }
 ],
 "metadata": {
  "kernelspec": {
   "display_name": "Python 3",
   "language": "python",
   "name": "python3"
  },
  "language_info": {
   "codemirror_mode": {
    "name": "ipython",
    "version": 3
   },
   "file_extension": ".py",
   "mimetype": "text/x-python",
   "name": "python",
   "nbconvert_exporter": "python",
   "pygments_lexer": "ipython3",
   "version": "3.8.5"
  }
 },
 "nbformat": 4,
 "nbformat_minor": 4
}
