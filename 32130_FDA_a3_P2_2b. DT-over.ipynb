{
 "cells": [
  {
   "cell_type": "markdown",
   "metadata": {},
   "source": [
    "## Part 2 a) Decision Tree - oversampling"
   ]
  },
  {
   "cell_type": "markdown",
   "metadata": {},
   "source": [
    "#### 1. load clean data"
   ]
  },
  {
   "cell_type": "code",
   "execution_count": 1,
   "metadata": {},
   "outputs": [
    {
     "data": {
      "text/html": [
       "<div>\n",
       "<style scoped>\n",
       "    .dataframe tbody tr th:only-of-type {\n",
       "        vertical-align: middle;\n",
       "    }\n",
       "\n",
       "    .dataframe tbody tr th {\n",
       "        vertical-align: top;\n",
       "    }\n",
       "\n",
       "    .dataframe thead th {\n",
       "        text-align: right;\n",
       "    }\n",
       "</style>\n",
       "<table border=\"1\" class=\"dataframe\">\n",
       "  <thead>\n",
       "    <tr style=\"text-align: right;\">\n",
       "      <th></th>\n",
       "      <th>Field_info2</th>\n",
       "      <th>Field_info4</th>\n",
       "      <th>Coverage_info1</th>\n",
       "      <th>Coverage_info2</th>\n",
       "      <th>Sales_info1</th>\n",
       "      <th>Sales_info2</th>\n",
       "      <th>Sales_info3</th>\n",
       "      <th>Sales_info5</th>\n",
       "      <th>Personal_info1</th>\n",
       "      <th>Personal_info2</th>\n",
       "      <th>...</th>\n",
       "      <th>Property_3_Q</th>\n",
       "      <th>Property_3_R</th>\n",
       "      <th>Property_3_S</th>\n",
       "      <th>Geo_5_CA</th>\n",
       "      <th>Geo_5_IL</th>\n",
       "      <th>Geo_5_NJ</th>\n",
       "      <th>Geo_5_TX</th>\n",
       "      <th>Quote_Year</th>\n",
       "      <th>Quote_Month</th>\n",
       "      <th>Quote_Flag</th>\n",
       "    </tr>\n",
       "  </thead>\n",
       "  <tbody>\n",
       "    <tr>\n",
       "      <th>0</th>\n",
       "      <td>-1.244954</td>\n",
       "      <td>0</td>\n",
       "      <td>-0.896869</td>\n",
       "      <td>-3.910702</td>\n",
       "      <td>0</td>\n",
       "      <td>0.793684</td>\n",
       "      <td>-0.475199</td>\n",
       "      <td>0.573928</td>\n",
       "      <td>0</td>\n",
       "      <td>-0.134783</td>\n",
       "      <td>...</td>\n",
       "      <td>0</td>\n",
       "      <td>0</td>\n",
       "      <td>1</td>\n",
       "      <td>0</td>\n",
       "      <td>0</td>\n",
       "      <td>0</td>\n",
       "      <td>1</td>\n",
       "      <td>0.306811</td>\n",
       "      <td>-0.885036</td>\n",
       "      <td>0</td>\n",
       "    </tr>\n",
       "    <tr>\n",
       "      <th>1</th>\n",
       "      <td>0.240331</td>\n",
       "      <td>0</td>\n",
       "      <td>-0.179394</td>\n",
       "      <td>0.161749</td>\n",
       "      <td>1</td>\n",
       "      <td>-1.252022</td>\n",
       "      <td>0.954253</td>\n",
       "      <td>1.091226</td>\n",
       "      <td>0</td>\n",
       "      <td>-0.134783</td>\n",
       "      <td>...</td>\n",
       "      <td>0</td>\n",
       "      <td>0</td>\n",
       "      <td>1</td>\n",
       "      <td>0</td>\n",
       "      <td>1</td>\n",
       "      <td>0</td>\n",
       "      <td>0</td>\n",
       "      <td>0.306811</td>\n",
       "      <td>-1.476678</td>\n",
       "      <td>0</td>\n",
       "    </tr>\n",
       "    <tr>\n",
       "      <th>2</th>\n",
       "      <td>0.053995</td>\n",
       "      <td>0</td>\n",
       "      <td>-1.255606</td>\n",
       "      <td>0.161749</td>\n",
       "      <td>1</td>\n",
       "      <td>0.793684</td>\n",
       "      <td>1.113080</td>\n",
       "      <td>0.819487</td>\n",
       "      <td>0</td>\n",
       "      <td>-1.175365</td>\n",
       "      <td>...</td>\n",
       "      <td>0</td>\n",
       "      <td>0</td>\n",
       "      <td>0</td>\n",
       "      <td>1</td>\n",
       "      <td>0</td>\n",
       "      <td>0</td>\n",
       "      <td>0</td>\n",
       "      <td>-1.070547</td>\n",
       "      <td>0.594068</td>\n",
       "      <td>0</td>\n",
       "    </tr>\n",
       "    <tr>\n",
       "      <th>3</th>\n",
       "      <td>-1.385381</td>\n",
       "      <td>1</td>\n",
       "      <td>1.434923</td>\n",
       "      <td>0.161749</td>\n",
       "      <td>0</td>\n",
       "      <td>0.793684</td>\n",
       "      <td>-0.475199</td>\n",
       "      <td>-1.184536</td>\n",
       "      <td>0</td>\n",
       "      <td>-1.175365</td>\n",
       "      <td>...</td>\n",
       "      <td>0</td>\n",
       "      <td>0</td>\n",
       "      <td>1</td>\n",
       "      <td>0</td>\n",
       "      <td>0</td>\n",
       "      <td>0</td>\n",
       "      <td>1</td>\n",
       "      <td>1.684170</td>\n",
       "      <td>0.889889</td>\n",
       "      <td>0</td>\n",
       "    </tr>\n",
       "    <tr>\n",
       "      <th>4</th>\n",
       "      <td>0.053995</td>\n",
       "      <td>0</td>\n",
       "      <td>-0.717500</td>\n",
       "      <td>0.161749</td>\n",
       "      <td>1</td>\n",
       "      <td>0.793684</td>\n",
       "      <td>-1.110510</td>\n",
       "      <td>1.024008</td>\n",
       "      <td>0</td>\n",
       "      <td>0.013872</td>\n",
       "      <td>...</td>\n",
       "      <td>0</td>\n",
       "      <td>0</td>\n",
       "      <td>0</td>\n",
       "      <td>1</td>\n",
       "      <td>0</td>\n",
       "      <td>0</td>\n",
       "      <td>0</td>\n",
       "      <td>0.306811</td>\n",
       "      <td>-1.476678</td>\n",
       "      <td>0</td>\n",
       "    </tr>\n",
       "  </tbody>\n",
       "</table>\n",
       "<p>5 rows × 113 columns</p>\n",
       "</div>"
      ],
      "text/plain": [
       "   Field_info2  Field_info4  Coverage_info1  Coverage_info2  Sales_info1  \\\n",
       "0    -1.244954            0       -0.896869       -3.910702            0   \n",
       "1     0.240331            0       -0.179394        0.161749            1   \n",
       "2     0.053995            0       -1.255606        0.161749            1   \n",
       "3    -1.385381            1        1.434923        0.161749            0   \n",
       "4     0.053995            0       -0.717500        0.161749            1   \n",
       "\n",
       "   Sales_info2  Sales_info3  Sales_info5  Personal_info1  Personal_info2  ...  \\\n",
       "0     0.793684    -0.475199     0.573928               0       -0.134783  ...   \n",
       "1    -1.252022     0.954253     1.091226               0       -0.134783  ...   \n",
       "2     0.793684     1.113080     0.819487               0       -1.175365  ...   \n",
       "3     0.793684    -0.475199    -1.184536               0       -1.175365  ...   \n",
       "4     0.793684    -1.110510     1.024008               0        0.013872  ...   \n",
       "\n",
       "   Property_3_Q  Property_3_R  Property_3_S  Geo_5_CA  Geo_5_IL  Geo_5_NJ  \\\n",
       "0             0             0             1         0         0         0   \n",
       "1             0             0             1         0         1         0   \n",
       "2             0             0             0         1         0         0   \n",
       "3             0             0             1         0         0         0   \n",
       "4             0             0             0         1         0         0   \n",
       "\n",
       "   Geo_5_TX  Quote_Year  Quote_Month  Quote_Flag  \n",
       "0         1    0.306811    -0.885036           0  \n",
       "1         0    0.306811    -1.476678           0  \n",
       "2         0   -1.070547     0.594068           0  \n",
       "3         1    1.684170     0.889889           0  \n",
       "4         0    0.306811    -1.476678           0  \n",
       "\n",
       "[5 rows x 113 columns]"
      ]
     },
     "execution_count": 1,
     "metadata": {},
     "output_type": "execute_result"
    }
   ],
   "source": [
    "import sklearn as sk\n",
    "import pandas as pd\n",
    "import numpy as np\n",
    "\n",
    "DATAFILE1 = 'D:\\\\Google One\\\\8. Library\\\\0. UTS\\\\Master of Information Technology\\\\4. Subjects\\\\2021 Semester 1\\\\32130 Fundamentals of Data Analystics\\\\4. Assignment\\\\Assignment 3\\\\Database\\\\A3_OverSample_train.csv'\n",
    "a3train = pd.read_csv(DATAFILE1)\n",
    "a3train = a3train[[col for col in a3train.columns if (col != 'Unnamed: 0' and col != 'Quote_Id')]]\n",
    "a3train.head()"
   ]
  },
  {
   "cell_type": "markdown",
   "metadata": {},
   "source": [
    "#### 2. parameter optimization `GridSearchCV`"
   ]
  },
  {
   "cell_type": "code",
   "execution_count": 2,
   "metadata": {},
   "outputs": [],
   "source": [
    "X_train, y_train = a3train.iloc[:,:-1], a3train.iloc[:,-1]"
   ]
  },
  {
   "cell_type": "code",
   "execution_count": 7,
   "metadata": {},
   "outputs": [
    {
     "name": "stdout",
     "output_type": "stream",
     "text": [
      "Fitting 3 folds for each of 40 candidates, totalling 120 fits\n",
      "[CV] END .................criterion=gini, min_samples_leaf=1; total time=   0.8s\n",
      "[CV] END .................criterion=gini, min_samples_leaf=1; total time=   0.8s\n",
      "[CV] END .................criterion=gini, min_samples_leaf=1; total time=   0.7s\n",
      "[CV] END .................criterion=gini, min_samples_leaf=2; total time=   0.8s\n",
      "[CV] END .................criterion=gini, min_samples_leaf=2; total time=   0.8s\n",
      "[CV] END .................criterion=gini, min_samples_leaf=2; total time=   0.7s\n",
      "[CV] END .................criterion=gini, min_samples_leaf=3; total time=   0.9s\n",
      "[CV] END .................criterion=gini, min_samples_leaf=3; total time=   0.8s\n",
      "[CV] END .................criterion=gini, min_samples_leaf=3; total time=   0.7s\n",
      "[CV] END .................criterion=gini, min_samples_leaf=4; total time=   0.8s\n",
      "[CV] END .................criterion=gini, min_samples_leaf=4; total time=   0.8s\n",
      "[CV] END .................criterion=gini, min_samples_leaf=4; total time=   0.8s\n",
      "[CV] END .................criterion=gini, min_samples_leaf=5; total time=   0.8s\n",
      "[CV] END .................criterion=gini, min_samples_leaf=5; total time=   0.8s\n",
      "[CV] END .................criterion=gini, min_samples_leaf=5; total time=   0.7s\n",
      "[CV] END .................criterion=gini, min_samples_leaf=6; total time=   0.8s\n",
      "[CV] END .................criterion=gini, min_samples_leaf=6; total time=   0.7s\n",
      "[CV] END .................criterion=gini, min_samples_leaf=6; total time=   0.7s\n",
      "[CV] END .................criterion=gini, min_samples_leaf=7; total time=   0.8s\n",
      "[CV] END .................criterion=gini, min_samples_leaf=7; total time=   0.7s\n",
      "[CV] END .................criterion=gini, min_samples_leaf=7; total time=   0.7s\n",
      "[CV] END .................criterion=gini, min_samples_leaf=8; total time=   0.8s\n",
      "[CV] END .................criterion=gini, min_samples_leaf=8; total time=   0.7s\n",
      "[CV] END .................criterion=gini, min_samples_leaf=8; total time=   0.7s\n",
      "[CV] END .................criterion=gini, min_samples_leaf=9; total time=   0.8s\n",
      "[CV] END .................criterion=gini, min_samples_leaf=9; total time=   0.7s\n",
      "[CV] END .................criterion=gini, min_samples_leaf=9; total time=   0.7s\n",
      "[CV] END ................criterion=gini, min_samples_leaf=10; total time=   0.8s\n",
      "[CV] END ................criterion=gini, min_samples_leaf=10; total time=   0.7s\n",
      "[CV] END ................criterion=gini, min_samples_leaf=10; total time=   0.7s\n",
      "[CV] END ................criterion=gini, min_samples_leaf=11; total time=   0.8s\n",
      "[CV] END ................criterion=gini, min_samples_leaf=11; total time=   0.7s\n",
      "[CV] END ................criterion=gini, min_samples_leaf=11; total time=   0.7s\n",
      "[CV] END ................criterion=gini, min_samples_leaf=12; total time=   0.8s\n",
      "[CV] END ................criterion=gini, min_samples_leaf=12; total time=   0.8s\n",
      "[CV] END ................criterion=gini, min_samples_leaf=12; total time=   0.7s\n",
      "[CV] END ................criterion=gini, min_samples_leaf=13; total time=   0.8s\n",
      "[CV] END ................criterion=gini, min_samples_leaf=13; total time=   0.7s\n",
      "[CV] END ................criterion=gini, min_samples_leaf=13; total time=   0.7s\n",
      "[CV] END ................criterion=gini, min_samples_leaf=14; total time=   0.8s\n",
      "[CV] END ................criterion=gini, min_samples_leaf=14; total time=   0.7s\n",
      "[CV] END ................criterion=gini, min_samples_leaf=14; total time=   0.7s\n",
      "[CV] END ................criterion=gini, min_samples_leaf=15; total time=   0.7s\n",
      "[CV] END ................criterion=gini, min_samples_leaf=15; total time=   0.7s\n",
      "[CV] END ................criterion=gini, min_samples_leaf=15; total time=   0.6s\n",
      "[CV] END ................criterion=gini, min_samples_leaf=16; total time=   0.7s\n",
      "[CV] END ................criterion=gini, min_samples_leaf=16; total time=   0.7s\n",
      "[CV] END ................criterion=gini, min_samples_leaf=16; total time=   0.6s\n",
      "[CV] END ................criterion=gini, min_samples_leaf=17; total time=   0.7s\n",
      "[CV] END ................criterion=gini, min_samples_leaf=17; total time=   0.7s\n",
      "[CV] END ................criterion=gini, min_samples_leaf=17; total time=   0.7s\n",
      "[CV] END ................criterion=gini, min_samples_leaf=18; total time=   0.8s\n",
      "[CV] END ................criterion=gini, min_samples_leaf=18; total time=   0.7s\n",
      "[CV] END ................criterion=gini, min_samples_leaf=18; total time=   0.7s\n",
      "[CV] END ................criterion=gini, min_samples_leaf=19; total time=   0.8s\n",
      "[CV] END ................criterion=gini, min_samples_leaf=19; total time=   0.7s\n",
      "[CV] END ................criterion=gini, min_samples_leaf=19; total time=   0.6s\n",
      "[CV] END ................criterion=gini, min_samples_leaf=20; total time=   0.8s\n",
      "[CV] END ................criterion=gini, min_samples_leaf=20; total time=   0.8s\n",
      "[CV] END ................criterion=gini, min_samples_leaf=20; total time=   0.6s\n",
      "[CV] END ..............criterion=entropy, min_samples_leaf=1; total time=   0.7s\n",
      "[CV] END ..............criterion=entropy, min_samples_leaf=1; total time=   0.8s\n",
      "[CV] END ..............criterion=entropy, min_samples_leaf=1; total time=   0.9s\n",
      "[CV] END ..............criterion=entropy, min_samples_leaf=2; total time=   0.6s\n",
      "[CV] END ..............criterion=entropy, min_samples_leaf=2; total time=   0.8s\n",
      "[CV] END ..............criterion=entropy, min_samples_leaf=2; total time=   0.8s\n",
      "[CV] END ..............criterion=entropy, min_samples_leaf=3; total time=   0.6s\n",
      "[CV] END ..............criterion=entropy, min_samples_leaf=3; total time=   0.8s\n",
      "[CV] END ..............criterion=entropy, min_samples_leaf=3; total time=   0.8s\n",
      "[CV] END ..............criterion=entropy, min_samples_leaf=4; total time=   0.7s\n",
      "[CV] END ..............criterion=entropy, min_samples_leaf=4; total time=   0.9s\n",
      "[CV] END ..............criterion=entropy, min_samples_leaf=4; total time=   0.8s\n",
      "[CV] END ..............criterion=entropy, min_samples_leaf=5; total time=   0.7s\n",
      "[CV] END ..............criterion=entropy, min_samples_leaf=5; total time=   0.8s\n",
      "[CV] END ..............criterion=entropy, min_samples_leaf=5; total time=   0.8s\n",
      "[CV] END ..............criterion=entropy, min_samples_leaf=6; total time=   0.6s\n",
      "[CV] END ..............criterion=entropy, min_samples_leaf=6; total time=   0.8s\n",
      "[CV] END ..............criterion=entropy, min_samples_leaf=6; total time=   0.8s\n",
      "[CV] END ..............criterion=entropy, min_samples_leaf=7; total time=   0.6s\n",
      "[CV] END ..............criterion=entropy, min_samples_leaf=7; total time=   0.8s\n",
      "[CV] END ..............criterion=entropy, min_samples_leaf=7; total time=   0.8s\n",
      "[CV] END ..............criterion=entropy, min_samples_leaf=8; total time=   0.6s\n",
      "[CV] END ..............criterion=entropy, min_samples_leaf=8; total time=   0.8s\n",
      "[CV] END ..............criterion=entropy, min_samples_leaf=8; total time=   0.8s\n",
      "[CV] END ..............criterion=entropy, min_samples_leaf=9; total time=   0.6s\n",
      "[CV] END ..............criterion=entropy, min_samples_leaf=9; total time=   0.8s\n",
      "[CV] END ..............criterion=entropy, min_samples_leaf=9; total time=   0.8s\n",
      "[CV] END .............criterion=entropy, min_samples_leaf=10; total time=   0.7s\n",
      "[CV] END .............criterion=entropy, min_samples_leaf=10; total time=   0.9s\n",
      "[CV] END .............criterion=entropy, min_samples_leaf=10; total time=   0.8s\n",
      "[CV] END .............criterion=entropy, min_samples_leaf=11; total time=   0.7s\n",
      "[CV] END .............criterion=entropy, min_samples_leaf=11; total time=   0.9s\n",
      "[CV] END .............criterion=entropy, min_samples_leaf=11; total time=   0.8s\n",
      "[CV] END .............criterion=entropy, min_samples_leaf=12; total time=   0.8s\n",
      "[CV] END .............criterion=entropy, min_samples_leaf=12; total time=   0.8s\n",
      "[CV] END .............criterion=entropy, min_samples_leaf=12; total time=   0.8s\n",
      "[CV] END .............criterion=entropy, min_samples_leaf=13; total time=   0.9s\n",
      "[CV] END .............criterion=entropy, min_samples_leaf=13; total time=   0.9s\n",
      "[CV] END .............criterion=entropy, min_samples_leaf=13; total time=   0.8s\n",
      "[CV] END .............criterion=entropy, min_samples_leaf=14; total time=   0.6s\n",
      "[CV] END .............criterion=entropy, min_samples_leaf=14; total time=   0.9s\n"
     ]
    },
    {
     "name": "stdout",
     "output_type": "stream",
     "text": [
      "[CV] END .............criterion=entropy, min_samples_leaf=14; total time=   1.0s\n",
      "[CV] END .............criterion=entropy, min_samples_leaf=15; total time=   0.6s\n",
      "[CV] END .............criterion=entropy, min_samples_leaf=15; total time=   0.8s\n",
      "[CV] END .............criterion=entropy, min_samples_leaf=15; total time=   0.9s\n",
      "[CV] END .............criterion=entropy, min_samples_leaf=16; total time=   0.7s\n",
      "[CV] END .............criterion=entropy, min_samples_leaf=16; total time=   0.8s\n",
      "[CV] END .............criterion=entropy, min_samples_leaf=16; total time=   1.2s\n",
      "[CV] END .............criterion=entropy, min_samples_leaf=17; total time=   0.9s\n",
      "[CV] END .............criterion=entropy, min_samples_leaf=17; total time=   0.8s\n",
      "[CV] END .............criterion=entropy, min_samples_leaf=17; total time=   0.8s\n",
      "[CV] END .............criterion=entropy, min_samples_leaf=18; total time=   0.6s\n",
      "[CV] END .............criterion=entropy, min_samples_leaf=18; total time=   0.7s\n",
      "[CV] END .............criterion=entropy, min_samples_leaf=18; total time=   0.8s\n",
      "[CV] END .............criterion=entropy, min_samples_leaf=19; total time=   0.7s\n",
      "[CV] END .............criterion=entropy, min_samples_leaf=19; total time=   0.8s\n",
      "[CV] END .............criterion=entropy, min_samples_leaf=19; total time=   0.7s\n",
      "[CV] END .............criterion=entropy, min_samples_leaf=20; total time=   0.6s\n",
      "[CV] END .............criterion=entropy, min_samples_leaf=20; total time=   0.7s\n",
      "[CV] END .............criterion=entropy, min_samples_leaf=20; total time=   0.7s\n"
     ]
    },
    {
     "data": {
      "text/plain": [
       "GridSearchCV(cv=3, estimator=DecisionTreeClassifier(),\n",
       "             param_grid={'criterion': ['gini', 'entropy'],\n",
       "                         'min_samples_leaf': [1, 2, 3, 4, 5, 6, 7, 8, 9, 10, 11,\n",
       "                                              12, 13, 14, 15, 16, 17, 18, 19,\n",
       "                                              20]},\n",
       "             scoring=make_scorer(f1_score, pos_label=1), verbose=2)"
      ]
     },
     "execution_count": 7,
     "metadata": {},
     "output_type": "execute_result"
    }
   ],
   "source": [
    "from sklearn.tree import DecisionTreeClassifier\n",
    "from sklearn.model_selection import GridSearchCV\n",
    "from sklearn.metrics import f1_score, make_scorer\n",
    "\n",
    "criterion = ['gini', 'entropy']\n",
    "min_samples_leaf = [1, 2, 3, 4, 5, 6, 7, 8, 9, 10, 11, 12, 13, 14, 15, 16, 17, 18, 19, 20]\n",
    "est_model = DecisionTreeClassifier()\n",
    "random_grid = {'criterion': criterion, \n",
    "                'min_samples_leaf': min_samples_leaf,\n",
    "                }\n",
    "\n",
    "cv_Gird = GridSearchCV(estimator = est_model, param_grid = random_grid, \n",
    "                       scoring = make_scorer(f1_score,pos_label=1), cv = 3, verbose = 2)\n",
    "cv_Gird.fit(X_train, y_train)"
   ]
  },
  {
   "cell_type": "code",
   "execution_count": 8,
   "metadata": {},
   "outputs": [
    {
     "name": "stdout",
     "output_type": "stream",
     "text": [
      "{'criterion': 'gini', 'min_samples_leaf': 10}\n",
      "0.7938946680308866\n"
     ]
    }
   ],
   "source": [
    "print(cv_Gird.best_params_)\n",
    "print(cv_Gird.best_score_)"
   ]
  },
  {
   "cell_type": "markdown",
   "metadata": {},
   "source": [
    "#### 3. build classifier"
   ]
  },
  {
   "cell_type": "code",
   "execution_count": 3,
   "metadata": {},
   "outputs": [
    {
     "data": {
      "text/plain": [
       "DecisionTreeClassifier(min_samples_leaf=10)"
      ]
     },
     "execution_count": 3,
     "metadata": {},
     "output_type": "execute_result"
    }
   ],
   "source": [
    "from sklearn.tree import DecisionTreeClassifier\n",
    "clf = DecisionTreeClassifier(criterion = 'gini', min_samples_leaf= 10)\n",
    "clf.fit(X_train, y_train)\n"
   ]
  },
  {
   "cell_type": "markdown",
   "metadata": {},
   "source": [
    "#### 4. generate `f1-score` for evaluation"
   ]
  },
  {
   "cell_type": "code",
   "execution_count": 5,
   "metadata": {},
   "outputs": [],
   "source": [
    "# import test set and fit in to classifier\n",
    "DATAFILE2 = 'D:\\\\Google One\\\\8. Library\\\\0. UTS\\\\Master of Information Technology\\\\4. Subjects\\\\2021 Semester 1\\\\32130 Fundamentals of Data Analystics\\\\4. Assignment\\\\Assignment 3\\\\Database\\\\A3_test.csv'\n",
    "a3test = pd.read_csv(DATAFILE2)\n",
    "a3test = a3test[[col for col in a3test.columns if (col != 'Unnamed: 0' and col != 'Quote_Id')]]\n",
    "\n",
    "X_test, y_test = a3test.iloc[:,:-1], a3test.iloc[:,-1]\n",
    "y_pred = clf.predict(X_test)\n",
    "y_probs = clf.predict_proba(X_test)"
   ]
  },
  {
   "cell_type": "code",
   "execution_count": 11,
   "metadata": {},
   "outputs": [
    {
     "name": "stdout",
     "output_type": "stream",
     "text": [
      "              precision    recall  f1-score   support\n",
      "\n",
      "           0       0.88      0.90      0.89     12629\n",
      "           1       0.55      0.50      0.52      3006\n",
      "\n",
      "    accuracy                           0.82     15635\n",
      "   macro avg       0.71      0.70      0.71     15635\n",
      "weighted avg       0.82      0.82      0.82     15635\n",
      "\n",
      "The F1-score for Quote_Flag = 1 is 0.5200\n",
      "[[11386  1243]\n",
      " [ 1513  1493]]\n"
     ]
    },
    {
     "data": {
      "image/png": "[encoded data removed]",
      "text/plain": [
       "<Figure size 432x288 with 2 Axes>"
      ]
     },
     "metadata": {
      "needs_background": "light"
     },
     "output_type": "display_data"
    }
   ],
   "source": [
    "# generate reposrting score\n",
    "\n",
    "from sklearn.metrics import f1_score, classification_report, confusion_matrix,plot_confusion_matrix\n",
    "# Classification Report and f1-score\n",
    "print(classification_report(y_test, y_pred))\n",
    "print('The F1-score for Quote_Flag = 1 is {:.4f}'.format(f1_score(y_test, y_pred, pos_label=1)))\n",
    "# Confusion Matrix\n",
    "mat = confusion_matrix(y_test, y_pred)\n",
    "print(mat)\n",
    "plot_confusion_matrix(clf, X_test, y_test, normalize = 'all');\n"
   ]
  },
  {
   "cell_type": "markdown",
   "metadata": {},
   "source": [
    "### AUC for kaggle\n",
    "To save time, AUC performance needs to be checked before use to predict for kaggle.\n",
    "Only AUC > 0.85 worth for kaggle"
   ]
  },
  {
   "cell_type": "code",
   "execution_count": 13,
   "metadata": {},
   "outputs": [
    {
     "name": "stdout",
     "output_type": "stream",
     "text": [
      "The AUC is 0.828\n"
     ]
    }
   ],
   "source": [
    "from sklearn.metrics import roc_curve, roc_auc_score\n",
    "# auc\n",
    "y_probs_class_1 = y_probs[:,1]\n",
    "auc = roc_auc_score(y_test, y_probs_class_1)\n",
    "print('The AUC is {:.3f}'.format(auc))"
   ]
  },
  {
   "cell_type": "code",
   "execution_count": 29,
   "metadata": {},
   "outputs": [],
   "source": [
    "# import the unknown data and fit in the classifier for prediction\n",
    "\n",
    "DATAFILE3 = 'C:\\\\Users\\\\ASUS\\\\32130_FDA_a3\\\\Kaggle\\\\a3k-clean_m.csv'\n",
    "a3kaggle = pd.read_csv(DATAFILE3)\n",
    "a3kaggle1 = a3kaggle[[col for col in a3kaggle.columns if col != 'Unnamed: 0' and col != 'Quote_Id']]\n",
    "\n",
    "y_pred_K = clf.predict(a3kaggle1)"
   ]
  },
  {
   "cell_type": "code",
   "execution_count": 30,
   "metadata": {},
   "outputs": [],
   "source": [
    "dummy_list = []\n",
    "for i in y_pred_K:\n",
    "    dummy_list = np.append(dummy_list, i)\n",
    "\n",
    "data = {\n",
    "    'Quote_Id': a3kaggle['Quote_Id'],\n",
    "    'Quote_Flag': dummy_list\n",
    "    }\n",
    "df = pd.DataFrame(data)"
   ]
  },
  {
   "cell_type": "code",
   "execution_count": 31,
   "metadata": {},
   "outputs": [
    {
     "data": {
      "text/html": [
       "<div>\n",
       "<style scoped>\n",
       "    .dataframe tbody tr th:only-of-type {\n",
       "        vertical-align: middle;\n",
       "    }\n",
       "\n",
       "    .dataframe tbody tr th {\n",
       "        vertical-align: top;\n",
       "    }\n",
       "\n",
       "    .dataframe thead th {\n",
       "        text-align: right;\n",
       "    }\n",
       "</style>\n",
       "<table border=\"1\" class=\"dataframe\">\n",
       "  <thead>\n",
       "    <tr style=\"text-align: right;\">\n",
       "      <th></th>\n",
       "      <th>Quote_Id</th>\n",
       "      <th>Quote_Flag</th>\n",
       "    </tr>\n",
       "  </thead>\n",
       "  <tbody>\n",
       "    <tr>\n",
       "      <th>0</th>\n",
       "      <td>1</td>\n",
       "      <td>0.0</td>\n",
       "    </tr>\n",
       "    <tr>\n",
       "      <th>1</th>\n",
       "      <td>4</td>\n",
       "      <td>0.0</td>\n",
       "    </tr>\n",
       "    <tr>\n",
       "      <th>2</th>\n",
       "      <td>5</td>\n",
       "      <td>0.0</td>\n",
       "    </tr>\n",
       "    <tr>\n",
       "      <th>3</th>\n",
       "      <td>7</td>\n",
       "      <td>0.0</td>\n",
       "    </tr>\n",
       "    <tr>\n",
       "      <th>4</th>\n",
       "      <td>8</td>\n",
       "      <td>0.0</td>\n",
       "    </tr>\n",
       "  </tbody>\n",
       "</table>\n",
       "</div>"
      ],
      "text/plain": [
       "   Quote_Id  Quote_Flag\n",
       "0         1         0.0\n",
       "1         4         0.0\n",
       "2         5         0.0\n",
       "3         7         0.0\n",
       "4         8         0.0"
      ]
     },
     "execution_count": 31,
     "metadata": {},
     "output_type": "execute_result"
    }
   ],
   "source": [
    "df.head()"
   ]
  },
  {
   "cell_type": "code",
   "execution_count": 32,
   "metadata": {},
   "outputs": [],
   "source": [
    "df.to_csv('C:\\\\Users\\\\ASUS\\\\32130_FDA_a3\\\\Kaggle\\\\UTS_32130_10620084.csv')"
   ]
  }
 ],
 "metadata": {
  "kernelspec": {
   "display_name": "Python 3",
   "language": "python",
   "name": "python3"
  },
  "language_info": {
   "codemirror_mode": {
    "name": "ipython",
    "version": 3
   },
   "file_extension": ".py",
   "mimetype": "text/x-python",
   "name": "python",
   "nbconvert_exporter": "python",
   "pygments_lexer": "ipython3",
   "version": "3.8.5"
  }
 },
 "nbformat": 4,
 "nbformat_minor": 4
}
