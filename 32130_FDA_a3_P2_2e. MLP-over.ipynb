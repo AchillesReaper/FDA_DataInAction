{
 "cells": [
  {
   "cell_type": "markdown",
   "metadata": {},
   "source": [
    "## Part 2 c) Multilayer Perceptron - OverSampling\n",
    "\n",
    "#### 1. load clean data"
   ]
  },
  {
   "cell_type": "code",
   "execution_count": 1,
   "metadata": {},
   "outputs": [
    {
     "data": {
      "text/html": [
       "<div>\n",
       "<style scoped>\n",
       "    .dataframe tbody tr th:only-of-type {\n",
       "        vertical-align: middle;\n",
       "    }\n",
       "\n",
       "    .dataframe tbody tr th {\n",
       "        vertical-align: top;\n",
       "    }\n",
       "\n",
       "    .dataframe thead th {\n",
       "        text-align: right;\n",
       "    }\n",
       "</style>\n",
       "<table border=\"1\" class=\"dataframe\">\n",
       "  <thead>\n",
       "    <tr style=\"text-align: right;\">\n",
       "      <th></th>\n",
       "      <th>Field_info2</th>\n",
       "      <th>Field_info4</th>\n",
       "      <th>Coverage_info1</th>\n",
       "      <th>Coverage_info2</th>\n",
       "      <th>Sales_info1</th>\n",
       "      <th>Sales_info2</th>\n",
       "      <th>Sales_info3</th>\n",
       "      <th>Sales_info5</th>\n",
       "      <th>Personal_info1</th>\n",
       "      <th>Personal_info2</th>\n",
       "      <th>...</th>\n",
       "      <th>Property_3_Q</th>\n",
       "      <th>Property_3_R</th>\n",
       "      <th>Property_3_S</th>\n",
       "      <th>Geo_5_CA</th>\n",
       "      <th>Geo_5_IL</th>\n",
       "      <th>Geo_5_NJ</th>\n",
       "      <th>Geo_5_TX</th>\n",
       "      <th>Quote_Year</th>\n",
       "      <th>Quote_Month</th>\n",
       "      <th>Quote_Flag</th>\n",
       "    </tr>\n",
       "  </thead>\n",
       "  <tbody>\n",
       "    <tr>\n",
       "      <th>0</th>\n",
       "      <td>-1.244954</td>\n",
       "      <td>0</td>\n",
       "      <td>-0.896869</td>\n",
       "      <td>-3.910702</td>\n",
       "      <td>0</td>\n",
       "      <td>0.793684</td>\n",
       "      <td>-0.475199</td>\n",
       "      <td>0.573928</td>\n",
       "      <td>0</td>\n",
       "      <td>-0.134783</td>\n",
       "      <td>...</td>\n",
       "      <td>0</td>\n",
       "      <td>0</td>\n",
       "      <td>1</td>\n",
       "      <td>0</td>\n",
       "      <td>0</td>\n",
       "      <td>0</td>\n",
       "      <td>1</td>\n",
       "      <td>0.306811</td>\n",
       "      <td>-0.885036</td>\n",
       "      <td>0</td>\n",
       "    </tr>\n",
       "    <tr>\n",
       "      <th>1</th>\n",
       "      <td>0.240331</td>\n",
       "      <td>0</td>\n",
       "      <td>-0.179394</td>\n",
       "      <td>0.161749</td>\n",
       "      <td>1</td>\n",
       "      <td>-1.252022</td>\n",
       "      <td>0.954253</td>\n",
       "      <td>1.091226</td>\n",
       "      <td>0</td>\n",
       "      <td>-0.134783</td>\n",
       "      <td>...</td>\n",
       "      <td>0</td>\n",
       "      <td>0</td>\n",
       "      <td>1</td>\n",
       "      <td>0</td>\n",
       "      <td>1</td>\n",
       "      <td>0</td>\n",
       "      <td>0</td>\n",
       "      <td>0.306811</td>\n",
       "      <td>-1.476678</td>\n",
       "      <td>0</td>\n",
       "    </tr>\n",
       "    <tr>\n",
       "      <th>2</th>\n",
       "      <td>0.053995</td>\n",
       "      <td>0</td>\n",
       "      <td>-1.255606</td>\n",
       "      <td>0.161749</td>\n",
       "      <td>1</td>\n",
       "      <td>0.793684</td>\n",
       "      <td>1.113080</td>\n",
       "      <td>0.819487</td>\n",
       "      <td>0</td>\n",
       "      <td>-1.175365</td>\n",
       "      <td>...</td>\n",
       "      <td>0</td>\n",
       "      <td>0</td>\n",
       "      <td>0</td>\n",
       "      <td>1</td>\n",
       "      <td>0</td>\n",
       "      <td>0</td>\n",
       "      <td>0</td>\n",
       "      <td>-1.070547</td>\n",
       "      <td>0.594068</td>\n",
       "      <td>0</td>\n",
       "    </tr>\n",
       "    <tr>\n",
       "      <th>3</th>\n",
       "      <td>-1.385381</td>\n",
       "      <td>1</td>\n",
       "      <td>1.434923</td>\n",
       "      <td>0.161749</td>\n",
       "      <td>0</td>\n",
       "      <td>0.793684</td>\n",
       "      <td>-0.475199</td>\n",
       "      <td>-1.184536</td>\n",
       "      <td>0</td>\n",
       "      <td>-1.175365</td>\n",
       "      <td>...</td>\n",
       "      <td>0</td>\n",
       "      <td>0</td>\n",
       "      <td>1</td>\n",
       "      <td>0</td>\n",
       "      <td>0</td>\n",
       "      <td>0</td>\n",
       "      <td>1</td>\n",
       "      <td>1.684170</td>\n",
       "      <td>0.889889</td>\n",
       "      <td>0</td>\n",
       "    </tr>\n",
       "    <tr>\n",
       "      <th>4</th>\n",
       "      <td>0.053995</td>\n",
       "      <td>0</td>\n",
       "      <td>-0.717500</td>\n",
       "      <td>0.161749</td>\n",
       "      <td>1</td>\n",
       "      <td>0.793684</td>\n",
       "      <td>-1.110510</td>\n",
       "      <td>1.024008</td>\n",
       "      <td>0</td>\n",
       "      <td>0.013872</td>\n",
       "      <td>...</td>\n",
       "      <td>0</td>\n",
       "      <td>0</td>\n",
       "      <td>0</td>\n",
       "      <td>1</td>\n",
       "      <td>0</td>\n",
       "      <td>0</td>\n",
       "      <td>0</td>\n",
       "      <td>0.306811</td>\n",
       "      <td>-1.476678</td>\n",
       "      <td>0</td>\n",
       "    </tr>\n",
       "  </tbody>\n",
       "</table>\n",
       "<p>5 rows × 113 columns</p>\n",
       "</div>"
      ],
      "text/plain": [
       "   Field_info2  Field_info4  Coverage_info1  Coverage_info2  Sales_info1  \\\n",
       "0    -1.244954            0       -0.896869       -3.910702            0   \n",
       "1     0.240331            0       -0.179394        0.161749            1   \n",
       "2     0.053995            0       -1.255606        0.161749            1   \n",
       "3    -1.385381            1        1.434923        0.161749            0   \n",
       "4     0.053995            0       -0.717500        0.161749            1   \n",
       "\n",
       "   Sales_info2  Sales_info3  Sales_info5  Personal_info1  Personal_info2  ...  \\\n",
       "0     0.793684    -0.475199     0.573928               0       -0.134783  ...   \n",
       "1    -1.252022     0.954253     1.091226               0       -0.134783  ...   \n",
       "2     0.793684     1.113080     0.819487               0       -1.175365  ...   \n",
       "3     0.793684    -0.475199    -1.184536               0       -1.175365  ...   \n",
       "4     0.793684    -1.110510     1.024008               0        0.013872  ...   \n",
       "\n",
       "   Property_3_Q  Property_3_R  Property_3_S  Geo_5_CA  Geo_5_IL  Geo_5_NJ  \\\n",
       "0             0             0             1         0         0         0   \n",
       "1             0             0             1         0         1         0   \n",
       "2             0             0             0         1         0         0   \n",
       "3             0             0             1         0         0         0   \n",
       "4             0             0             0         1         0         0   \n",
       "\n",
       "   Geo_5_TX  Quote_Year  Quote_Month  Quote_Flag  \n",
       "0         1    0.306811    -0.885036           0  \n",
       "1         0    0.306811    -1.476678           0  \n",
       "2         0   -1.070547     0.594068           0  \n",
       "3         1    1.684170     0.889889           0  \n",
       "4         0    0.306811    -1.476678           0  \n",
       "\n",
       "[5 rows x 113 columns]"
      ]
     },
     "execution_count": 1,
     "metadata": {},
     "output_type": "execute_result"
    }
   ],
   "source": [
    "import sklearn as sk\n",
    "import pandas as pd\n",
    "import numpy as np\n",
    "\n",
    "DATAFILE1 = 'D:\\\\Google One\\\\8. Library\\\\0. UTS\\\\Master of Information Technology\\\\4. Subjects\\\\2021 Semester 1\\\\32130 Fundamentals of Data Analystics\\\\4. Assignment\\\\Assignment 3\\\\Database\\\\A3_OverSample_train.csv'\n",
    "a3train = pd.read_csv(DATAFILE1)\n",
    "a3train = a3train[[col for col in a3train.columns if (col != 'Unnamed: 0' and col != 'Quote_Id')]]\n",
    "a3train.head()"
   ]
  },
  {
   "cell_type": "markdown",
   "metadata": {},
   "source": [
    "#### 2. parameter optimization `GridSearchCV`"
   ]
  },
  {
   "cell_type": "code",
   "execution_count": 2,
   "metadata": {},
   "outputs": [],
   "source": [
    "X_train, y_train = a3train.iloc[:,:-1], a3train.iloc[:,-1]"
   ]
  },
  {
   "cell_type": "code",
   "execution_count": 3,
   "metadata": {},
   "outputs": [
    {
     "name": "stdout",
     "output_type": "stream",
     "text": [
      "Fitting 3 folds for each of 72 candidates, totalling 216 fits\n",
      "[CV] END activation=logistic, hidden_layer_sizes=(3, 3), max_iter=1000; total time=  19.7s\n",
      "[CV] END activation=logistic, hidden_layer_sizes=(3, 3), max_iter=1000; total time=  22.2s\n",
      "[CV] END activation=logistic, hidden_layer_sizes=(3, 3), max_iter=1000; total time=  25.5s\n",
      "[CV] END activation=logistic, hidden_layer_sizes=(3, 4), max_iter=1000; total time=  16.7s\n",
      "[CV] END activation=logistic, hidden_layer_sizes=(3, 4), max_iter=1000; total time=  17.3s\n",
      "[CV] END activation=logistic, hidden_layer_sizes=(3, 4), max_iter=1000; total time=  27.5s\n",
      "[CV] END activation=logistic, hidden_layer_sizes=(3, 5), max_iter=1000; total time=  18.2s\n",
      "[CV] END activation=logistic, hidden_layer_sizes=(3, 5), max_iter=1000; total time=  20.1s\n",
      "[CV] END activation=logistic, hidden_layer_sizes=(3, 5), max_iter=1000; total time=  20.5s\n",
      "[CV] END activation=logistic, hidden_layer_sizes=(4, 3), max_iter=1000; total time=  16.5s\n",
      "[CV] END activation=logistic, hidden_layer_sizes=(4, 3), max_iter=1000; total time=  24.0s\n",
      "[CV] END activation=logistic, hidden_layer_sizes=(4, 3), max_iter=1000; total time=  31.2s\n",
      "[CV] END activation=logistic, hidden_layer_sizes=(4, 4), max_iter=1000; total time=  16.3s\n",
      "[CV] END activation=logistic, hidden_layer_sizes=(4, 4), max_iter=1000; total time=  23.4s\n",
      "[CV] END activation=logistic, hidden_layer_sizes=(4, 4), max_iter=1000; total time=  28.5s\n",
      "[CV] END activation=logistic, hidden_layer_sizes=(4, 5), max_iter=1000; total time=  16.0s\n",
      "[CV] END activation=logistic, hidden_layer_sizes=(4, 5), max_iter=1000; total time=  33.5s\n",
      "[CV] END activation=logistic, hidden_layer_sizes=(4, 5), max_iter=1000; total time=  23.0s\n",
      "[CV] END activation=logistic, hidden_layer_sizes=(5, 3), max_iter=1000; total time=  18.1s\n",
      "[CV] END activation=logistic, hidden_layer_sizes=(5, 3), max_iter=1000; total time=  21.1s\n",
      "[CV] END activation=logistic, hidden_layer_sizes=(5, 3), max_iter=1000; total time=  41.0s\n",
      "[CV] END activation=logistic, hidden_layer_sizes=(5, 4), max_iter=1000; total time=  15.4s\n",
      "[CV] END activation=logistic, hidden_layer_sizes=(5, 4), max_iter=1000; total time=  23.3s\n",
      "[CV] END activation=logistic, hidden_layer_sizes=(5, 4), max_iter=1000; total time=  26.3s\n",
      "[CV] END activation=logistic, hidden_layer_sizes=(5, 5), max_iter=1000; total time=  11.6s\n",
      "[CV] END activation=logistic, hidden_layer_sizes=(5, 5), max_iter=1000; total time=  46.0s\n",
      "[CV] END activation=logistic, hidden_layer_sizes=(5, 5), max_iter=1000; total time=  35.0s\n",
      "[CV] END activation=logistic, hidden_layer_sizes=(3, 3, 3), max_iter=1000; total time=  15.4s\n",
      "[CV] END activation=logistic, hidden_layer_sizes=(3, 3, 3), max_iter=1000; total time=  26.0s\n",
      "[CV] END activation=logistic, hidden_layer_sizes=(3, 3, 3), max_iter=1000; total time=  24.1s\n",
      "[CV] END activation=logistic, hidden_layer_sizes=(3, 3, 4), max_iter=1000; total time=  27.3s\n",
      "[CV] END activation=logistic, hidden_layer_sizes=(3, 3, 4), max_iter=1000; total time=  23.6s\n",
      "[CV] END activation=logistic, hidden_layer_sizes=(3, 3, 4), max_iter=1000; total time=  32.9s\n",
      "[CV] END activation=logistic, hidden_layer_sizes=(3, 3, 5), max_iter=1000; total time=  21.4s\n",
      "[CV] END activation=logistic, hidden_layer_sizes=(3, 3, 5), max_iter=1000; total time=  24.1s\n",
      "[CV] END activation=logistic, hidden_layer_sizes=(3, 3, 5), max_iter=1000; total time=  25.9s\n",
      "[CV] END activation=logistic, hidden_layer_sizes=(3, 4, 3), max_iter=1000; total time=  14.8s\n",
      "[CV] END activation=logistic, hidden_layer_sizes=(3, 4, 3), max_iter=1000; total time=  28.4s\n",
      "[CV] END activation=logistic, hidden_layer_sizes=(3, 4, 3), max_iter=1000; total time=  24.5s\n",
      "[CV] END activation=logistic, hidden_layer_sizes=(3, 4, 4), max_iter=1000; total time=  16.8s\n",
      "[CV] END activation=logistic, hidden_layer_sizes=(3, 4, 4), max_iter=1000; total time=  25.7s\n",
      "[CV] END activation=logistic, hidden_layer_sizes=(3, 4, 4), max_iter=1000; total time=  29.8s\n",
      "[CV] END activation=logistic, hidden_layer_sizes=(3, 4, 5), max_iter=1000; total time=  23.5s\n",
      "[CV] END activation=logistic, hidden_layer_sizes=(3, 4, 5), max_iter=1000; total time=  24.6s\n",
      "[CV] END activation=logistic, hidden_layer_sizes=(3, 4, 5), max_iter=1000; total time=  28.9s\n",
      "[CV] END activation=logistic, hidden_layer_sizes=(3, 5, 3), max_iter=1000; total time=  13.8s\n",
      "[CV] END activation=logistic, hidden_layer_sizes=(3, 5, 3), max_iter=1000; total time=  27.7s\n",
      "[CV] END activation=logistic, hidden_layer_sizes=(3, 5, 3), max_iter=1000; total time=  28.2s\n",
      "[CV] END activation=logistic, hidden_layer_sizes=(3, 5, 4), max_iter=1000; total time=  19.2s\n",
      "[CV] END activation=logistic, hidden_layer_sizes=(3, 5, 4), max_iter=1000; total time=  28.5s\n",
      "[CV] END activation=logistic, hidden_layer_sizes=(3, 5, 4), max_iter=1000; total time=  24.9s\n",
      "[CV] END activation=logistic, hidden_layer_sizes=(3, 5, 5), max_iter=1000; total time=  16.9s\n",
      "[CV] END activation=logistic, hidden_layer_sizes=(3, 5, 5), max_iter=1000; total time=  20.4s\n",
      "[CV] END activation=logistic, hidden_layer_sizes=(3, 5, 5), max_iter=1000; total time=  18.0s\n",
      "[CV] END activation=logistic, hidden_layer_sizes=(4, 3, 3), max_iter=1000; total time=  22.2s\n",
      "[CV] END activation=logistic, hidden_layer_sizes=(4, 3, 3), max_iter=1000; total time=  19.5s\n",
      "[CV] END activation=logistic, hidden_layer_sizes=(4, 3, 3), max_iter=1000; total time=  27.4s\n",
      "[CV] END activation=logistic, hidden_layer_sizes=(4, 3, 4), max_iter=1000; total time=  22.1s\n",
      "[CV] END activation=logistic, hidden_layer_sizes=(4, 3, 4), max_iter=1000; total time=  30.8s\n",
      "[CV] END activation=logistic, hidden_layer_sizes=(4, 3, 4), max_iter=1000; total time=  38.8s\n",
      "[CV] END activation=logistic, hidden_layer_sizes=(4, 3, 5), max_iter=1000; total time=  20.8s\n",
      "[CV] END activation=logistic, hidden_layer_sizes=(4, 3, 5), max_iter=1000; total time=  38.8s\n",
      "[CV] END activation=logistic, hidden_layer_sizes=(4, 3, 5), max_iter=1000; total time=  31.8s\n",
      "[CV] END activation=logistic, hidden_layer_sizes=(4, 4, 3), max_iter=1000; total time=  22.4s\n",
      "[CV] END activation=logistic, hidden_layer_sizes=(4, 4, 3), max_iter=1000; total time=  31.7s\n",
      "[CV] END activation=logistic, hidden_layer_sizes=(4, 4, 3), max_iter=1000; total time=  30.8s\n",
      "[CV] END activation=logistic, hidden_layer_sizes=(4, 4, 4), max_iter=1000; total time=  29.5s\n",
      "[CV] END activation=logistic, hidden_layer_sizes=(4, 4, 4), max_iter=1000; total time=  24.1s\n",
      "[CV] END activation=logistic, hidden_layer_sizes=(4, 4, 4), max_iter=1000; total time=  23.6s\n",
      "[CV] END activation=logistic, hidden_layer_sizes=(4, 4, 5), max_iter=1000; total time=  22.2s\n",
      "[CV] END activation=logistic, hidden_layer_sizes=(4, 4, 5), max_iter=1000; total time=  23.5s\n",
      "[CV] END activation=logistic, hidden_layer_sizes=(4, 4, 5), max_iter=1000; total time=  25.2s\n",
      "[CV] END activation=logistic, hidden_layer_sizes=(4, 5, 3), max_iter=1000; total time=  19.4s\n",
      "[CV] END activation=logistic, hidden_layer_sizes=(4, 5, 3), max_iter=1000; total time=  26.8s\n",
      "[CV] END activation=logistic, hidden_layer_sizes=(4, 5, 3), max_iter=1000; total time=  24.7s\n",
      "[CV] END activation=logistic, hidden_layer_sizes=(4, 5, 4), max_iter=1000; total time=  18.8s\n",
      "[CV] END activation=logistic, hidden_layer_sizes=(4, 5, 4), max_iter=1000; total time=  33.0s\n",
      "[CV] END activation=logistic, hidden_layer_sizes=(4, 5, 4), max_iter=1000; total time=  24.3s\n",
      "[CV] END activation=logistic, hidden_layer_sizes=(4, 5, 5), max_iter=1000; total time=  24.1s\n",
      "[CV] END activation=logistic, hidden_layer_sizes=(4, 5, 5), max_iter=1000; total time=  28.4s\n",
      "[CV] END activation=logistic, hidden_layer_sizes=(4, 5, 5), max_iter=1000; total time=  27.4s\n",
      "[CV] END activation=logistic, hidden_layer_sizes=(5, 3, 3), max_iter=1000; total time=  20.7s\n",
      "[CV] END activation=logistic, hidden_layer_sizes=(5, 3, 3), max_iter=1000; total time=  24.7s\n",
      "[CV] END activation=logistic, hidden_layer_sizes=(5, 3, 3), max_iter=1000; total time=  31.4s\n",
      "[CV] END activation=logistic, hidden_layer_sizes=(5, 3, 4), max_iter=1000; total time=  24.6s\n",
      "[CV] END activation=logistic, hidden_layer_sizes=(5, 3, 4), max_iter=1000; total time=  33.9s\n",
      "[CV] END activation=logistic, hidden_layer_sizes=(5, 3, 4), max_iter=1000; total time=  35.7s\n",
      "[CV] END activation=logistic, hidden_layer_sizes=(5, 3, 5), max_iter=1000; total time=  19.8s\n"
     ]
    },
    {
     "name": "stdout",
     "output_type": "stream",
     "text": [
      "[CV] END activation=logistic, hidden_layer_sizes=(5, 3, 5), max_iter=1000; total time=  24.8s\n",
      "[CV] END activation=logistic, hidden_layer_sizes=(5, 3, 5), max_iter=1000; total time=  23.8s\n",
      "[CV] END activation=logistic, hidden_layer_sizes=(5, 4, 3), max_iter=1000; total time=  23.3s\n",
      "[CV] END activation=logistic, hidden_layer_sizes=(5, 4, 3), max_iter=1000; total time=  35.2s\n",
      "[CV] END activation=logistic, hidden_layer_sizes=(5, 4, 3), max_iter=1000; total time=  33.2s\n",
      "[CV] END activation=logistic, hidden_layer_sizes=(5, 4, 4), max_iter=1000; total time=  25.2s\n",
      "[CV] END activation=logistic, hidden_layer_sizes=(5, 4, 4), max_iter=1000; total time=  35.2s\n",
      "[CV] END activation=logistic, hidden_layer_sizes=(5, 4, 4), max_iter=1000; total time=  31.4s\n",
      "[CV] END activation=logistic, hidden_layer_sizes=(5, 4, 5), max_iter=1000; total time=  12.7s\n",
      "[CV] END activation=logistic, hidden_layer_sizes=(5, 4, 5), max_iter=1000; total time=  23.0s\n",
      "[CV] END activation=logistic, hidden_layer_sizes=(5, 4, 5), max_iter=1000; total time=  28.2s\n",
      "[CV] END activation=logistic, hidden_layer_sizes=(5, 5, 3), max_iter=1000; total time=  24.4s\n",
      "[CV] END activation=logistic, hidden_layer_sizes=(5, 5, 3), max_iter=1000; total time=  28.7s\n",
      "[CV] END activation=logistic, hidden_layer_sizes=(5, 5, 3), max_iter=1000; total time=  46.2s\n",
      "[CV] END activation=logistic, hidden_layer_sizes=(5, 5, 4), max_iter=1000; total time=  18.2s\n",
      "[CV] END activation=logistic, hidden_layer_sizes=(5, 5, 4), max_iter=1000; total time=  33.1s\n",
      "[CV] END activation=logistic, hidden_layer_sizes=(5, 5, 4), max_iter=1000; total time=  24.8s\n",
      "[CV] END activation=logistic, hidden_layer_sizes=(5, 5, 5), max_iter=1000; total time=  18.5s\n",
      "[CV] END activation=logistic, hidden_layer_sizes=(5, 5, 5), max_iter=1000; total time=  22.5s\n",
      "[CV] END activation=logistic, hidden_layer_sizes=(5, 5, 5), max_iter=1000; total time=  26.5s\n",
      "[CV] END activation=relu, hidden_layer_sizes=(3, 3), max_iter=1000; total time=  11.0s\n",
      "[CV] END activation=relu, hidden_layer_sizes=(3, 3), max_iter=1000; total time=  21.0s\n",
      "[CV] END activation=relu, hidden_layer_sizes=(3, 3), max_iter=1000; total time=  14.8s\n",
      "[CV] END activation=relu, hidden_layer_sizes=(3, 4), max_iter=1000; total time=   9.7s\n",
      "[CV] END activation=relu, hidden_layer_sizes=(3, 4), max_iter=1000; total time=  24.8s\n",
      "[CV] END activation=relu, hidden_layer_sizes=(3, 4), max_iter=1000; total time=  26.9s\n",
      "[CV] END activation=relu, hidden_layer_sizes=(3, 5), max_iter=1000; total time=   9.6s\n",
      "[CV] END activation=relu, hidden_layer_sizes=(3, 5), max_iter=1000; total time=  10.8s\n",
      "[CV] END activation=relu, hidden_layer_sizes=(3, 5), max_iter=1000; total time=  20.5s\n",
      "[CV] END activation=relu, hidden_layer_sizes=(4, 3), max_iter=1000; total time=  18.8s\n",
      "[CV] END activation=relu, hidden_layer_sizes=(4, 3), max_iter=1000; total time=  28.2s\n",
      "[CV] END activation=relu, hidden_layer_sizes=(4, 3), max_iter=1000; total time=  22.0s\n",
      "[CV] END activation=relu, hidden_layer_sizes=(4, 4), max_iter=1000; total time=  16.3s\n",
      "[CV] END activation=relu, hidden_layer_sizes=(4, 4), max_iter=1000; total time=  20.9s\n",
      "[CV] END activation=relu, hidden_layer_sizes=(4, 4), max_iter=1000; total time=  21.1s\n",
      "[CV] END activation=relu, hidden_layer_sizes=(4, 5), max_iter=1000; total time=  11.1s\n",
      "[CV] END activation=relu, hidden_layer_sizes=(4, 5), max_iter=1000; total time=  19.2s\n",
      "[CV] END activation=relu, hidden_layer_sizes=(4, 5), max_iter=1000; total time=  20.6s\n",
      "[CV] END activation=relu, hidden_layer_sizes=(5, 3), max_iter=1000; total time=  11.1s\n",
      "[CV] END activation=relu, hidden_layer_sizes=(5, 3), max_iter=1000; total time=  23.0s\n",
      "[CV] END activation=relu, hidden_layer_sizes=(5, 3), max_iter=1000; total time=  28.1s\n",
      "[CV] END activation=relu, hidden_layer_sizes=(5, 4), max_iter=1000; total time=  12.0s\n",
      "[CV] END activation=relu, hidden_layer_sizes=(5, 4), max_iter=1000; total time=  18.5s\n",
      "[CV] END activation=relu, hidden_layer_sizes=(5, 4), max_iter=1000; total time=  26.9s\n",
      "[CV] END activation=relu, hidden_layer_sizes=(5, 5), max_iter=1000; total time=   7.7s\n",
      "[CV] END activation=relu, hidden_layer_sizes=(5, 5), max_iter=1000; total time=  18.0s\n",
      "[CV] END activation=relu, hidden_layer_sizes=(5, 5), max_iter=1000; total time=  16.9s\n",
      "[CV] END activation=relu, hidden_layer_sizes=(3, 3, 3), max_iter=1000; total time=   3.6s\n",
      "[CV] END activation=relu, hidden_layer_sizes=(3, 3, 3), max_iter=1000; total time=  28.3s\n",
      "[CV] END activation=relu, hidden_layer_sizes=(3, 3, 3), max_iter=1000; total time=  22.2s\n",
      "[CV] END activation=relu, hidden_layer_sizes=(3, 3, 4), max_iter=1000; total time=  12.8s\n",
      "[CV] END activation=relu, hidden_layer_sizes=(3, 3, 4), max_iter=1000; total time=   9.3s\n",
      "[CV] END activation=relu, hidden_layer_sizes=(3, 3, 4), max_iter=1000; total time=  23.1s\n",
      "[CV] END activation=relu, hidden_layer_sizes=(3, 3, 5), max_iter=1000; total time=   6.8s\n",
      "[CV] END activation=relu, hidden_layer_sizes=(3, 3, 5), max_iter=1000; total time=  14.6s\n",
      "[CV] END activation=relu, hidden_layer_sizes=(3, 3, 5), max_iter=1000; total time=  23.2s\n",
      "[CV] END activation=relu, hidden_layer_sizes=(3, 4, 3), max_iter=1000; total time=  18.8s\n",
      "[CV] END activation=relu, hidden_layer_sizes=(3, 4, 3), max_iter=1000; total time=  22.9s\n",
      "[CV] END activation=relu, hidden_layer_sizes=(3, 4, 3), max_iter=1000; total time=  17.8s\n",
      "[CV] END activation=relu, hidden_layer_sizes=(3, 4, 4), max_iter=1000; total time=  12.5s\n",
      "[CV] END activation=relu, hidden_layer_sizes=(3, 4, 4), max_iter=1000; total time=  33.8s\n",
      "[CV] END activation=relu, hidden_layer_sizes=(3, 4, 4), max_iter=1000; total time=  21.7s\n",
      "[CV] END activation=relu, hidden_layer_sizes=(3, 4, 5), max_iter=1000; total time=  13.1s\n",
      "[CV] END activation=relu, hidden_layer_sizes=(3, 4, 5), max_iter=1000; total time=  11.2s\n",
      "[CV] END activation=relu, hidden_layer_sizes=(3, 4, 5), max_iter=1000; total time=  23.3s\n",
      "[CV] END activation=relu, hidden_layer_sizes=(3, 5, 3), max_iter=1000; total time=  21.1s\n",
      "[CV] END activation=relu, hidden_layer_sizes=(3, 5, 3), max_iter=1000; total time=  16.7s\n",
      "[CV] END activation=relu, hidden_layer_sizes=(3, 5, 3), max_iter=1000; total time=  15.1s\n",
      "[CV] END activation=relu, hidden_layer_sizes=(3, 5, 4), max_iter=1000; total time=  13.3s\n",
      "[CV] END activation=relu, hidden_layer_sizes=(3, 5, 4), max_iter=1000; total time=  14.4s\n",
      "[CV] END activation=relu, hidden_layer_sizes=(3, 5, 4), max_iter=1000; total time=  35.8s\n",
      "[CV] END activation=relu, hidden_layer_sizes=(3, 5, 5), max_iter=1000; total time=  23.4s\n",
      "[CV] END activation=relu, hidden_layer_sizes=(3, 5, 5), max_iter=1000; total time=  16.8s\n",
      "[CV] END activation=relu, hidden_layer_sizes=(3, 5, 5), max_iter=1000; total time=  17.5s\n",
      "[CV] END activation=relu, hidden_layer_sizes=(4, 3, 3), max_iter=1000; total time=  14.2s\n",
      "[CV] END activation=relu, hidden_layer_sizes=(4, 3, 3), max_iter=1000; total time=  21.9s\n",
      "[CV] END activation=relu, hidden_layer_sizes=(4, 3, 3), max_iter=1000; total time=  22.1s\n",
      "[CV] END activation=relu, hidden_layer_sizes=(4, 3, 4), max_iter=1000; total time=  17.5s\n",
      "[CV] END activation=relu, hidden_layer_sizes=(4, 3, 4), max_iter=1000; total time=  37.1s\n",
      "[CV] END activation=relu, hidden_layer_sizes=(4, 3, 4), max_iter=1000; total time=  29.9s\n",
      "[CV] END activation=relu, hidden_layer_sizes=(4, 3, 5), max_iter=1000; total time=  10.6s\n",
      "[CV] END activation=relu, hidden_layer_sizes=(4, 3, 5), max_iter=1000; total time=  31.7s\n",
      "[CV] END activation=relu, hidden_layer_sizes=(4, 3, 5), max_iter=1000; total time=  23.0s\n",
      "[CV] END activation=relu, hidden_layer_sizes=(4, 4, 3), max_iter=1000; total time=   8.1s\n",
      "[CV] END activation=relu, hidden_layer_sizes=(4, 4, 3), max_iter=1000; total time=  24.8s\n",
      "[CV] END activation=relu, hidden_layer_sizes=(4, 4, 3), max_iter=1000; total time=  30.0s\n",
      "[CV] END activation=relu, hidden_layer_sizes=(4, 4, 4), max_iter=1000; total time=  10.1s\n",
      "[CV] END activation=relu, hidden_layer_sizes=(4, 4, 4), max_iter=1000; total time=  14.4s\n",
      "[CV] END activation=relu, hidden_layer_sizes=(4, 4, 4), max_iter=1000; total time=  15.5s\n",
      "[CV] END activation=relu, hidden_layer_sizes=(4, 4, 5), max_iter=1000; total time=   8.6s\n",
      "[CV] END activation=relu, hidden_layer_sizes=(4, 4, 5), max_iter=1000; total time=  21.6s\n",
      "[CV] END activation=relu, hidden_layer_sizes=(4, 4, 5), max_iter=1000; total time=  16.6s\n"
     ]
    },
    {
     "name": "stdout",
     "output_type": "stream",
     "text": [
      "[CV] END activation=relu, hidden_layer_sizes=(4, 5, 3), max_iter=1000; total time=  17.0s\n",
      "[CV] END activation=relu, hidden_layer_sizes=(4, 5, 3), max_iter=1000; total time=  22.7s\n",
      "[CV] END activation=relu, hidden_layer_sizes=(4, 5, 3), max_iter=1000; total time=  16.3s\n",
      "[CV] END activation=relu, hidden_layer_sizes=(4, 5, 4), max_iter=1000; total time=  10.1s\n",
      "[CV] END activation=relu, hidden_layer_sizes=(4, 5, 4), max_iter=1000; total time=  11.0s\n",
      "[CV] END activation=relu, hidden_layer_sizes=(4, 5, 4), max_iter=1000; total time=  25.5s\n",
      "[CV] END activation=relu, hidden_layer_sizes=(4, 5, 5), max_iter=1000; total time=  29.5s\n",
      "[CV] END activation=relu, hidden_layer_sizes=(4, 5, 5), max_iter=1000; total time=  21.8s\n",
      "[CV] END activation=relu, hidden_layer_sizes=(4, 5, 5), max_iter=1000; total time=  19.3s\n",
      "[CV] END activation=relu, hidden_layer_sizes=(5, 3, 3), max_iter=1000; total time=  10.6s\n",
      "[CV] END activation=relu, hidden_layer_sizes=(5, 3, 3), max_iter=1000; total time=  24.6s\n",
      "[CV] END activation=relu, hidden_layer_sizes=(5, 3, 3), max_iter=1000; total time=  21.9s\n",
      "[CV] END activation=relu, hidden_layer_sizes=(5, 3, 4), max_iter=1000; total time=  21.0s\n",
      "[CV] END activation=relu, hidden_layer_sizes=(5, 3, 4), max_iter=1000; total time=  11.4s\n",
      "[CV] END activation=relu, hidden_layer_sizes=(5, 3, 4), max_iter=1000; total time=  21.7s\n",
      "[CV] END activation=relu, hidden_layer_sizes=(5, 3, 5), max_iter=1000; total time=  12.1s\n",
      "[CV] END activation=relu, hidden_layer_sizes=(5, 3, 5), max_iter=1000; total time=  33.7s\n",
      "[CV] END activation=relu, hidden_layer_sizes=(5, 3, 5), max_iter=1000; total time=  14.1s\n",
      "[CV] END activation=relu, hidden_layer_sizes=(5, 4, 3), max_iter=1000; total time=  20.4s\n",
      "[CV] END activation=relu, hidden_layer_sizes=(5, 4, 3), max_iter=1000; total time=  36.7s\n",
      "[CV] END activation=relu, hidden_layer_sizes=(5, 4, 3), max_iter=1000; total time=  17.5s\n",
      "[CV] END activation=relu, hidden_layer_sizes=(5, 4, 4), max_iter=1000; total time=   8.4s\n",
      "[CV] END activation=relu, hidden_layer_sizes=(5, 4, 4), max_iter=1000; total time=  17.1s\n",
      "[CV] END activation=relu, hidden_layer_sizes=(5, 4, 4), max_iter=1000; total time=  20.4s\n",
      "[CV] END activation=relu, hidden_layer_sizes=(5, 4, 5), max_iter=1000; total time=   7.2s\n",
      "[CV] END activation=relu, hidden_layer_sizes=(5, 4, 5), max_iter=1000; total time=  12.8s\n",
      "[CV] END activation=relu, hidden_layer_sizes=(5, 4, 5), max_iter=1000; total time=  29.9s\n",
      "[CV] END activation=relu, hidden_layer_sizes=(5, 5, 3), max_iter=1000; total time=   7.9s\n",
      "[CV] END activation=relu, hidden_layer_sizes=(5, 5, 3), max_iter=1000; total time=  24.1s\n",
      "[CV] END activation=relu, hidden_layer_sizes=(5, 5, 3), max_iter=1000; total time=  10.7s\n",
      "[CV] END activation=relu, hidden_layer_sizes=(5, 5, 4), max_iter=1000; total time=   9.4s\n",
      "[CV] END activation=relu, hidden_layer_sizes=(5, 5, 4), max_iter=1000; total time=  37.5s\n",
      "[CV] END activation=relu, hidden_layer_sizes=(5, 5, 4), max_iter=1000; total time=  30.4s\n",
      "[CV] END activation=relu, hidden_layer_sizes=(5, 5, 5), max_iter=1000; total time=   7.0s\n",
      "[CV] END activation=relu, hidden_layer_sizes=(5, 5, 5), max_iter=1000; total time=  26.7s\n",
      "[CV] END activation=relu, hidden_layer_sizes=(5, 5, 5), max_iter=1000; total time=  24.1s\n"
     ]
    },
    {
     "data": {
      "text/plain": [
       "GridSearchCV(cv=3, estimator=MLPClassifier(),\n",
       "             param_grid={'activation': ['logistic', 'relu'],\n",
       "                         'hidden_layer_sizes': [(3, 3), (3, 4), (3, 5), (4, 3),\n",
       "                                                (4, 4), (4, 5), (5, 3), (5, 4),\n",
       "                                                (5, 5), (3, 3, 3), (3, 3, 4),\n",
       "                                                (3, 3, 5), (3, 4, 3), (3, 4, 4),\n",
       "                                                (3, 4, 5), (3, 5, 3), (3, 5, 4),\n",
       "                                                (3, 5, 5), (4, 3, 3), (4, 3, 4),\n",
       "                                                (4, 3, 5), (4, 4, 3), (4, 4, 4),\n",
       "                                                (4, 4, 5), (4, 5, 3), (4, 5, 4),\n",
       "                                                (4, 5, 5), (5, 3, 3), (5, 3, 4),\n",
       "                                                (5, 3, 5), ...],\n",
       "                         'max_iter': [1000]},\n",
       "             scoring=make_scorer(f1_score, pos_label=1), verbose=2)"
      ]
     },
     "execution_count": 3,
     "metadata": {},
     "output_type": "execute_result"
    }
   ],
   "source": [
    "from sklearn.neural_network import MLPClassifier\n",
    "from sklearn.model_selection import GridSearchCV\n",
    "from sklearn.metrics import f1_score, make_scorer\n",
    "\n",
    "hidden_layer_sizes = [(3, 3), (3, 4), (3, 5), (4, 3), (4, 4), (4, 5), (5, 3), (5, 4), (5, 5), (3, 3, 3), (3, 3, 4), (3, 3, 5), (3, 4, 3), (3, 4, 4), (3, 4, 5), (3, 5, 3), (3, 5, 4), (3, 5, 5), (4, 3, 3), (4, 3, 4), (4, 3, 5), (4, 4, 3), (4, 4, 4), (4, 4, 5), (4, 5, 3), (4, 5, 4), (4, 5, 5), (5, 3, 3), (5, 3, 4), (5, 3, 5), (5, 4, 3), (5, 4, 4), (5, 4, 5), (5, 5, 3), (5, 5, 4), (5, 5, 5)]\n",
    "activation = ['logistic','relu']\n",
    "max_iter = [1000]\n",
    "\n",
    "est_model = MLPClassifier()\n",
    "random_grid = {'hidden_layer_sizes': hidden_layer_sizes, \n",
    "                'activation': activation,\n",
    "               'max_iter':max_iter\n",
    "              }\n",
    "\n",
    "cv_Gird = GridSearchCV(estimator = est_model, param_grid = random_grid, \n",
    "                       scoring = make_scorer(f1_score,pos_label=1), cv = 3, verbose = 2)\n",
    "cv_Gird.fit(X_train, y_train)"
   ]
  },
  {
   "cell_type": "code",
   "execution_count": 5,
   "metadata": {},
   "outputs": [
    {
     "name": "stdout",
     "output_type": "stream",
     "text": [
      "{'activation': 'relu', 'hidden_layer_sizes': (3, 3, 3), 'max_iter': 1000}\n",
      "0.8467597112721249\n"
     ]
    }
   ],
   "source": [
    "print(cv_Gird.best_params_)\n",
    "print(cv_Gird.best_score_)"
   ]
  },
  {
   "cell_type": "markdown",
   "metadata": {},
   "source": [
    "#### 3. build classifier"
   ]
  },
  {
   "cell_type": "code",
   "execution_count": 7,
   "metadata": {},
   "outputs": [
    {
     "data": {
      "text/plain": [
       "MLPClassifier(hidden_layer_sizes=(3, 3, 3), max_iter=1000)"
      ]
     },
     "execution_count": 7,
     "metadata": {},
     "output_type": "execute_result"
    }
   ],
   "source": [
    "from sklearn.neural_network import MLPClassifier\n",
    "clf = MLPClassifier(hidden_layer_sizes = (3, 3, 3), activation = 'relu', max_iter= 1000)\n",
    "clf.fit(X_train, y_train)"
   ]
  },
  {
   "cell_type": "markdown",
   "metadata": {},
   "source": [
    "#### 4. generate `f1-score` for evaluation"
   ]
  },
  {
   "cell_type": "code",
   "execution_count": 10,
   "metadata": {},
   "outputs": [],
   "source": [
    "# import test set and fit in to classifier\n",
    "DATAFILE2 = 'D:\\\\Google One\\\\8. Library\\\\0. UTS\\\\Master of Information Technology\\\\4. Subjects\\\\2021 Semester 1\\\\32130 Fundamentals of Data Analystics\\\\4. Assignment\\\\Assignment 3\\\\Database\\\\A3_test.csv'\n",
    "a3test = pd.read_csv(DATAFILE2)\n",
    "a3test = a3test[[col for col in a3test.columns if (col != 'Unnamed: 0' and col != 'Quote_Id')]]\n",
    "\n",
    "X_test, y_test = a3test.iloc[:,:-1], a3test.iloc[:,-1]\n",
    "y_pred = clf.predict(X_test)\n",
    "y_probs = clf.predict_proba(X_test)"
   ]
  },
  {
   "cell_type": "code",
   "execution_count": 11,
   "metadata": {},
   "outputs": [
    {
     "name": "stderr",
     "output_type": "stream",
     "text": [
      "C:\\Users\\ASUS\\anaconda3\\lib\\site-packages\\sklearn\\metrics\\_classification.py:1248: UndefinedMetricWarning: Precision and F-score are ill-defined and being set to 0.0 in labels with no predicted samples. Use `zero_division` parameter to control this behavior.\n",
      "  _warn_prf(average, modifier, msg_start, len(result))\n",
      "C:\\Users\\ASUS\\anaconda3\\lib\\site-packages\\sklearn\\metrics\\_classification.py:1248: UndefinedMetricWarning: Precision and F-score are ill-defined and being set to 0.0 in labels with no predicted samples. Use `zero_division` parameter to control this behavior.\n",
      "  _warn_prf(average, modifier, msg_start, len(result))\n",
      "C:\\Users\\ASUS\\anaconda3\\lib\\site-packages\\sklearn\\metrics\\_classification.py:1248: UndefinedMetricWarning: Precision and F-score are ill-defined and being set to 0.0 in labels with no predicted samples. Use `zero_division` parameter to control this behavior.\n",
      "  _warn_prf(average, modifier, msg_start, len(result))\n"
     ]
    },
    {
     "name": "stdout",
     "output_type": "stream",
     "text": [
      "              precision    recall  f1-score   support\n",
      "\n",
      "           0       0.00      0.00      0.00     12629\n",
      "           1       0.19      1.00      0.32      3006\n",
      "\n",
      "    accuracy                           0.19     15635\n",
      "   macro avg       0.10      0.50      0.16     15635\n",
      "weighted avg       0.04      0.19      0.06     15635\n",
      "\n",
      "The F1-score for Quote_Flag = 1 is 0.3225\n",
      "[[    0 12629]\n",
      " [    0  3006]]\n"
     ]
    },
    {
     "data": {
      "image/png": "[encoded data removed]",
      "text/plain": [
       "<Figure size 432x288 with 2 Axes>"
      ]
     },
     "metadata": {
      "needs_background": "light"
     },
     "output_type": "display_data"
    }
   ],
   "source": [
    "# generate reposrting score\n",
    "\n",
    "from sklearn.metrics import f1_score, classification_report, confusion_matrix,plot_confusion_matrix\n",
    "# Classification Report and f1-score\n",
    "print(classification_report(y_test, y_pred))\n",
    "print('The F1-score for Quote_Flag = 1 is {:.4f}'.format(f1_score(y_test, y_pred, pos_label=1)))\n",
    "# Confusion Matrix\n",
    "mat = confusion_matrix(y_test, y_pred)\n",
    "print(mat)\n",
    "plot_confusion_matrix(clf, X_test, y_test, normalize = 'all');\n"
   ]
  },
  {
   "cell_type": "code",
   "execution_count": 13,
   "metadata": {},
   "outputs": [
    {
     "data": {
      "text/plain": [
       "array([1, 1, 1, ..., 1, 1, 1], dtype=int64)"
      ]
     },
     "execution_count": 13,
     "metadata": {},
     "output_type": "execute_result"
    }
   ],
   "source": [
    "y_pred"
   ]
  },
  {
   "cell_type": "markdown",
   "metadata": {},
   "source": [
    "### AUC for kaggle\n",
    "To save time, AUC performance needs to be checked before use to predict for kaggle.\n",
    "Only AUC > 0.85 worth for kaggle"
   ]
  },
  {
   "cell_type": "code",
   "execution_count": 12,
   "metadata": {},
   "outputs": [
    {
     "name": "stdout",
     "output_type": "stream",
     "text": [
      "The AUC is 0.500\n"
     ]
    }
   ],
   "source": [
    "from sklearn.metrics import roc_curve, roc_auc_score\n",
    "# auc\n",
    "y_probs_class_1 = y_probs[:,1]\n",
    "auc = roc_auc_score(y_test, y_probs_class_1)\n",
    "print('The AUC is {:.3f}'.format(auc))"
   ]
  },
  {
   "cell_type": "code",
   "execution_count": 13,
   "metadata": {},
   "outputs": [],
   "source": [
    "# import the unknown data and fit in the classifier for prediction\n",
    "\n",
    "DATAFILE3 = 'C:\\\\Users\\\\ASUS\\\\32130_FDA_a3\\\\Kaggle\\\\a3k-clean_m.csv'\n",
    "a3kaggle = pd.read_csv(DATAFILE3)\n",
    "a3kaggle1 = a3kaggle[[col for col in a3kaggle.columns if col != 'Unnamed: 0' and col != 'Quote_Id']]\n",
    "\n",
    "y_pred_K = clf.predict(a3kaggle1)"
   ]
  },
  {
   "cell_type": "code",
   "execution_count": 14,
   "metadata": {},
   "outputs": [],
   "source": [
    "dummy_list = []\n",
    "for i in y_pred_K:\n",
    "    dummy_list = np.append(dummy_list, i)\n",
    "\n",
    "data = {\n",
    "    'Quote_Id': a3kaggle['Quote_Id'],\n",
    "    'Quote_Flag': dummy_list\n",
    "    }\n",
    "df = pd.DataFrame(data)"
   ]
  },
  {
   "cell_type": "code",
   "execution_count": 31,
   "metadata": {},
   "outputs": [
    {
     "data": {
      "text/html": [
       "<div>\n",
       "<style scoped>\n",
       "    .dataframe tbody tr th:only-of-type {\n",
       "        vertical-align: middle;\n",
       "    }\n",
       "\n",
       "    .dataframe tbody tr th {\n",
       "        vertical-align: top;\n",
       "    }\n",
       "\n",
       "    .dataframe thead th {\n",
       "        text-align: right;\n",
       "    }\n",
       "</style>\n",
       "<table border=\"1\" class=\"dataframe\">\n",
       "  <thead>\n",
       "    <tr style=\"text-align: right;\">\n",
       "      <th></th>\n",
       "      <th>Quote_Id</th>\n",
       "      <th>Quote_Flag</th>\n",
       "    </tr>\n",
       "  </thead>\n",
       "  <tbody>\n",
       "    <tr>\n",
       "      <th>0</th>\n",
       "      <td>1</td>\n",
       "      <td>0.0</td>\n",
       "    </tr>\n",
       "    <tr>\n",
       "      <th>1</th>\n",
       "      <td>4</td>\n",
       "      <td>0.0</td>\n",
       "    </tr>\n",
       "    <tr>\n",
       "      <th>2</th>\n",
       "      <td>5</td>\n",
       "      <td>0.0</td>\n",
       "    </tr>\n",
       "    <tr>\n",
       "      <th>3</th>\n",
       "      <td>7</td>\n",
       "      <td>0.0</td>\n",
       "    </tr>\n",
       "    <tr>\n",
       "      <th>4</th>\n",
       "      <td>8</td>\n",
       "      <td>0.0</td>\n",
       "    </tr>\n",
       "  </tbody>\n",
       "</table>\n",
       "</div>"
      ],
      "text/plain": [
       "   Quote_Id  Quote_Flag\n",
       "0         1         0.0\n",
       "1         4         0.0\n",
       "2         5         0.0\n",
       "3         7         0.0\n",
       "4         8         0.0"
      ]
     },
     "execution_count": 31,
     "metadata": {},
     "output_type": "execute_result"
    }
   ],
   "source": [
    "df.head()"
   ]
  },
  {
   "cell_type": "code",
   "execution_count": 15,
   "metadata": {},
   "outputs": [],
   "source": [
    "df.to_csv('C:\\\\Users\\\\ASUS\\\\32130_FDA_a3\\\\Kaggle\\\\UTS_32130_10620084.csv')"
   ]
  }
 ],
 "metadata": {
  "kernelspec": {
   "display_name": "Python 3",
   "language": "python",
   "name": "python3"
  },
  "language_info": {
   "codemirror_mode": {
    "name": "ipython",
    "version": 3
   },
   "file_extension": ".py",
   "mimetype": "text/x-python",
   "name": "python",
   "nbconvert_exporter": "python",
   "pygments_lexer": "ipython3",
   "version": "3.8.5"
  }
 },
 "nbformat": 4,
 "nbformat_minor": 4
}
